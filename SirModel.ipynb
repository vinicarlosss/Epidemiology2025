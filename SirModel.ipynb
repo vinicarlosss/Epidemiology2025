{
 "cells": [
  {
   "cell_type": "code",
   "execution_count": 5,
   "metadata": {},
   "outputs": [],
   "source": [
    "import pandas as pd\n",
    "import matplotlib.pyplot as plt\n",
    "import numpy as np\n",
    "import mplcursors\n",
    "from sklearn.preprocessing import MinMaxScaler\n",
    "from sklearn.linear_model import LinearRegression"
   ]
  },
  {
   "cell_type": "code",
   "execution_count": 6,
   "metadata": {},
   "outputs": [],
   "source": [
    "scaler = MinMaxScaler()"
   ]
  },
  {
   "cell_type": "code",
   "execution_count": null,
   "metadata": {},
   "outputs": [],
   "source": [
    "#excluindo nulos e renomeando algumas colunas do dataset    \n",
    "caminho_arquivo = './data/data.xlsx'\n",
    "df = pd.read_excel(caminho_arquivo)\n",
    "df = df.rename(columns={'Unnamed: 1': 'DRS', 'Unnamed: 3': 'GVE', 'Unnamed: 4': 'Codigo_regiao', 'Unnamed: 5': 'Regiao', 'Unnamed: 6': 'Municipio'})\n",
    "df = df.dropna()\n",
    "df['Municipio'] = df['Municipio'].replace(to_replace=r'\\d', value='', regex=True)\n",
    "semana = 1"
   ]
  },
  {
   "cell_type": "code",
   "execution_count": 9,
   "metadata": {},
   "outputs": [],
   "source": [
    "#renomeando as colunas do dataset\n",
    "for i in range(7, 60):\n",
    "    if i == 59:\n",
    "        df = df.rename(columns={f'Unnamed: {i}': 'Total'})\n",
    "    else:\n",
    "        df = df.rename(columns={f'Unnamed: {i}': semana})\n",
    "        semana += 1"
   ]
  },
  {
   "cell_type": "code",
   "execution_count": 10,
   "metadata": {},
   "outputs": [],
   "source": [
    "linha_sp = df.loc[df['Regiao'] == 'SÃO PAULO']\n",
    "semanas_infectados = pd.DataFrame()"
   ]
  }
 ],
 "metadata": {
  "kernelspec": {
   "display_name": "Python 3",
   "language": "python",
   "name": "python3"
  },
  "language_info": {
   "codemirror_mode": {
    "name": "ipython",
    "version": 3
   },
   "file_extension": ".py",
   "mimetype": "text/x-python",
   "name": "python",
   "nbconvert_exporter": "python",
   "pygments_lexer": "ipython3",
   "version": "3.13.1"
  }
 },
 "nbformat": 4,
 "nbformat_minor": 2
}
