{
 "cells": [
  {
   "cell_type": "code",
   "execution_count": 5,
   "metadata": {},
   "outputs": [],
   "source": [
    "import pandas as pd\n",
    "import matplotlib.pyplot as plt\n",
    "import numpy as np\n",
    "import mplcursors\n",
    "from sklearn.preprocessing import MinMaxScaler\n",
    "from sklearn.linear_model import LinearRegression"
   ]
  },
  {
   "cell_type": "code",
   "execution_count": 6,
   "metadata": {},
   "outputs": [],
   "source": [
    "scaler = MinMaxScaler()"
   ]
  },
  {
   "cell_type": "code",
   "execution_count": null,
   "metadata": {},
   "outputs": [],
   "source": [
    "#excluindo nulos e renomeando algumas colunas do dataset    \n",
    "caminho_arquivo = './data/data.xlsx'\n",
    "df = pd.read_excel(caminho_arquivo)\n",
    "df = df.rename(columns={'Unnamed: 1': 'DRS', 'Unnamed: 3': 'GVE', 'Unnamed: 4': 'Codigo_regiao', 'Unnamed: 5': 'Regiao', 'Unnamed: 6': 'Municipio'})\n",
    "df = df.dropna()\n",
    "df['Municipio'] = df['Municipio'].replace(to_replace=r'\\d', value='', regex=True)\n",
    "semana = 1"
   ]
  },
  {
   "cell_type": "code",
   "execution_count": 9,
   "metadata": {},
   "outputs": [],
   "source": [
    "#renomeando as colunas do dataset\n",
    "for i in range(7, 60):\n",
    "    if i == 59:\n",
    "        df = df.rename(columns={f'Unnamed: {i}': 'Total'})\n",
    "    else:\n",
    "        df = df.rename(columns={f'Unnamed: {i}': semana})\n",
    "        semana += 1"
   ]
  },
  {
   "cell_type": "code",
   "execution_count": 10,
   "metadata": {},
   "outputs": [],
   "source": [
    "linha_sp = df.loc[df['Regiao'] == 'SÃO PAULO']\n",
    "semanas_infectados = pd.DataFrame()"
   ]
  },
  {
   "cell_type": "code",
   "execution_count": 15,
   "metadata": {},
   "outputs": [],
   "source": [
    "N = 11451245 #população de são paulo\n",
    "gama = 1/6 # média de dias para recuperar-se da dengue\n",
    "\n",
    "for i in range(1, 53):\n",
    "    semanas_infectados[i] = linha_sp[i]"
   ]
  },
  {
   "cell_type": "code",
   "execution_count": 18,
   "metadata": {},
   "outputs": [],
   "source": [
    "#definir arrays de infectados sucetíveis e recuperados\n",
    "semanas = semanas_infectados.columns.tolist()\n",
    "infectados = np.array(semanas_infectados.values.tolist()).flatten().tolist()\n",
    "sucetiveis = [N-infectados[0]]\n",
    "recuperados = [0]\n",
    "contador = 0\n",
    "contador_elementos = 2\n",
    "numero_par_semanas = 26\n",
    "beta_array = []"
   ]
  },
  {
   "cell_type": "code",
   "execution_count": null,
   "metadata": {},
   "outputs": [],
   "source": [
    "#Rodar modelo sir nos dados para simular o histórico da doença\n",
    "while contador < 26:\n",
    "    y = []\n",
    "    X = []\n",
    "    for i in range(contador_elementos - 2, contador_elementos):\n",
    "        y.append(semanas[i])\n",
    "        X.append(infectados[i])\n",
    "    X = np.array(X).reshape(-1,1)\n",
    "    y = np.array(y)\n",
    "    modelo = LinearRegression()\n",
    "    modelo.fit(X, y)\n",
    "    b = modelo.coef_[0]\n",
    "    beta = b +  gama\n",
    "    beta_array.append(beta)\n",
    "    for i in range(contador_elementos - 2, contador_elementos):\n",
    "        if(len(sucetiveis) < 52 and len(recuperados) < 52):\n",
    "            sucetiveis.append(sucetiveis[i]*(1-beta*infectados[i]/N))\n",
    "            recuperados.append(recuperados[i]+gama*infectados[i])\n",
    "    contador_elementos += 2\n",
    "    contador += 1"
   ]
  }
 ],
 "metadata": {
  "kernelspec": {
   "display_name": "Python 3",
   "language": "python",
   "name": "python3"
  },
  "language_info": {
   "codemirror_mode": {
    "name": "ipython",
    "version": 3
   },
   "file_extension": ".py",
   "mimetype": "text/x-python",
   "name": "python",
   "nbconvert_exporter": "python",
   "pygments_lexer": "ipython3",
   "version": "3.13.1"
  }
 },
 "nbformat": 4,
 "nbformat_minor": 2
}
